{
 "cells": [
  {
   "cell_type": "code",
   "execution_count": 40,
   "id": "bab96e6e",
   "metadata": {
    "ExecuteTime": {
     "end_time": "2022-03-27T16:50:16.052943Z",
     "start_time": "2022-03-27T16:50:16.050340Z"
    }
   },
   "outputs": [],
   "source": [
    "import os\n",
    "import sys\n",
    "import pandas as pd\n",
    "import numpy as np\n",
    "from bs4 import BeautifulSoup\n",
    "from random import shuffle"
   ]
  },
  {
   "cell_type": "code",
   "execution_count": 41,
   "id": "1baa02df",
   "metadata": {
    "ExecuteTime": {
     "end_time": "2022-03-27T16:50:16.056492Z",
     "start_time": "2022-03-27T16:50:16.054459Z"
    }
   },
   "outputs": [],
   "source": [
    "sys.path.append('..')"
   ]
  },
  {
   "cell_type": "code",
   "execution_count": 42,
   "id": "2680358c",
   "metadata": {
    "ExecuteTime": {
     "end_time": "2022-03-27T16:50:16.059513Z",
     "start_time": "2022-03-27T16:50:16.057665Z"
    }
   },
   "outputs": [],
   "source": [
    "DATA_PATH = '../TlkPersonaChatRus/'"
   ]
  },
  {
   "cell_type": "markdown",
   "id": "ff0f2551",
   "metadata": {},
   "source": [
    "## Dialogs"
   ]
  },
  {
   "cell_type": "code",
   "execution_count": 43,
   "id": "4c5a6d5c",
   "metadata": {
    "ExecuteTime": {
     "end_time": "2022-03-27T16:50:16.488915Z",
     "start_time": "2022-03-27T16:50:16.061040Z"
    }
   },
   "outputs": [],
   "source": [
    "dialogs = pd.read_csv(os.path.join(DATA_PATH, 'new_dialogues.tsv'), sep='\\t', index_col=0)"
   ]
  },
  {
   "cell_type": "code",
   "execution_count": 44,
   "id": "a0a6661a",
   "metadata": {
    "ExecuteTime": {
     "end_time": "2022-03-27T16:50:16.507745Z",
     "start_time": "2022-03-27T16:50:16.490762Z"
    }
   },
   "outputs": [
    {
     "name": "stdout",
     "output_type": "stream",
     "text": [
      "<class 'pandas.core.frame.DataFrame'>\n",
      "Int64Index: 10013 entries, 0 to 10012\n",
      "Data columns (total 11 columns):\n",
      " #   Column               Non-Null Count  Dtype \n",
      "---  ------               --------------  ----- \n",
      " 0   dialogue             10013 non-null  object\n",
      " 1   persona_1_profile_1  10013 non-null  object\n",
      " 2   persona_1_profile_2  10013 non-null  object\n",
      " 3   persona_1_profile_3  10013 non-null  object\n",
      " 4   persona_1_profile_4  10013 non-null  object\n",
      " 5   persona_1_profile_5  10013 non-null  object\n",
      " 6   persona_2_profile_1  10013 non-null  object\n",
      " 7   persona_2_profile_2  10013 non-null  object\n",
      " 8   persona_2_profile_3  10013 non-null  object\n",
      " 9   persona_2_profile_4  10013 non-null  object\n",
      " 10  persona_2_profile_5  10013 non-null  object\n",
      "dtypes: object(11)\n",
      "memory usage: 938.7+ KB\n"
     ]
    }
   ],
   "source": [
    "dialogs.info()"
   ]
  },
  {
   "cell_type": "markdown",
   "id": "99b76edf",
   "metadata": {},
   "source": [
    "### dialogs"
   ]
  },
  {
   "cell_type": "code",
   "execution_count": 45,
   "id": "90df41ca",
   "metadata": {
    "ExecuteTime": {
     "end_time": "2022-03-27T16:50:16.511884Z",
     "start_time": "2022-03-27T16:50:16.508895Z"
    }
   },
   "outputs": [
    {
     "data": {
      "text/plain": [
       "'<span class=participant_1>Пользователь 1: Привет!</span><br /><span class=participant_2>Пользователь 2: Привет,Как жизнь?</span><br /><span class=participant_1>Пользователь 1: Отлично) Солнышко светит, птички поют!</span><br /><span class=participant_2>Пользователь 2: Я вот сегодня понял, что меня тупо используют, всем<br />нужны от меня лишь деньги, ненавижу людей</span><br /><span class=participant_2>Пользователь 2: Чем занимаешься по жизни, я вот бизнесмен.</span><br /><span class=participant_1>Пользователь 1: А я вот учу детей, работаю с начальными классами</span><br /><span class=participant_1>Пользователь 1: Не все люди такие, как ты говоришь</span><br /><span class=participant_1>Пользователь 1: Помимо работы чем еще ты занимаешься?</span><br /><span class=participant_2>Пользователь 2: К свадьбе готовлюсь</span><br /><span class=participant_2>Пользователь 2: А ты?</span><br /><span class=participant_1>Пользователь 1: Вот видишь) значит, нашел такую женщину, которой не<br />нужны от тебя деньги</span><br /><span class=participant_2>Пользователь 2: Да я надеюсь на это,люблю ее</span><br />'"
      ]
     },
     "execution_count": 45,
     "metadata": {},
     "output_type": "execute_result"
    }
   ],
   "source": [
    "some_text = dialogs['dialogue'][1]\n",
    "some_text"
   ]
  },
  {
   "cell_type": "code",
   "execution_count": 46,
   "id": "ae0350ba",
   "metadata": {
    "ExecuteTime": {
     "end_time": "2022-03-27T16:50:16.514653Z",
     "start_time": "2022-03-27T16:50:16.512897Z"
    }
   },
   "outputs": [],
   "source": [
    "from preprocessing import Dialog"
   ]
  },
  {
   "cell_type": "markdown",
   "id": "48325971",
   "metadata": {
    "ExecuteTime": {
     "end_time": "2022-03-20T11:49:40.121333Z",
     "start_time": "2022-03-20T11:49:40.119460Z"
    }
   },
   "source": [
    "some replicas are corrupted by `<br />` symbol - need to fix this"
   ]
  },
  {
   "cell_type": "code",
   "execution_count": 47,
   "id": "64ebf636",
   "metadata": {
    "ExecuteTime": {
     "end_time": "2022-03-27T16:50:16.518353Z",
     "start_time": "2022-03-27T16:50:16.515854Z"
    }
   },
   "outputs": [],
   "source": [
    "def print_dialog(row):\n",
    "    text = row['dialogue'].replace('<br />', ' ')\n",
    "    print('\\n'.join(t.text for t in BeautifulSoup(text, features='html').find_all('span')))\n",
    "    print('\\n' + '#'*80 + '\\n')"
   ]
  },
  {
   "cell_type": "code",
   "execution_count": 48,
   "id": "5a3f825e",
   "metadata": {
    "ExecuteTime": {
     "end_time": "2022-03-27T16:50:16.697736Z",
     "start_time": "2022-03-27T16:50:16.520020Z"
    }
   },
   "outputs": [
    {
     "data": {
      "text/plain": [
       "<speaker2>Привет, как жизнь?\n",
       "<speaker1>Привет!Отлично!Сегодня замечательно прошёл день!!!\n",
       "<speaker2>Хм. А я вот весь день залипал в компе. Недавно приобрёл новый. Наслаждаюсь<speaker2>Если долго отвечаю, то извини. По личным обстоятельствам живу сейчас на даче. Тут с интернетом беда\n",
       "<speaker1>Наверное это интересно, но я предпочитаю книги\n",
       "<speaker2>А какой любимый писатель? Моя бывшая жена, с которой как никак были вместе 40 лет, обожала паланика. От того терпеть его теперь не могу\n",
       "<speaker1>Ничего у меня тоже иногда интернет тормозит. Я учитель и интернет мне очень нужен как ты понимаешь, но часто подводит! Так что я тебя понимаю.\n",
       "<speaker2>Интересно наверное учителем работать. Постоянно с детьми. У меня у самого из трое. Хотел бы проводить с ними времени больше. Но работа мешает. Я сторож , график тяжёлый\n",
       "<speaker1>Ну сейчас например читаю Достоевского. А дети и муж тоже больше ко пьютер предпочитают.<speaker1>Ох я тебя понимаю. У самой совершенно не хватает времени на семью с этой работой.\n",
       "<speaker2>Кстати о работе. Меня тут отвлекают. Думаю попозже спишемся\n",
       "<speaker1>Хорошо! Приятно было!!!\n",
       "********************************************************************************\n",
       "<speaker2>Привет, я роман. Как тебя зовут?\n",
       "<speaker1>Привет, меня зовут Аня\n",
       "<speaker2>Чем занимаешься? Чем увлекаешься?\n",
       "<speaker1>Я блогер, делаю видосики на ютубе, так же умею фотошопить<speaker1>А ты?\n",
       "<speaker2>Я врач, который в 30лет научился плавать )) ты замужем ?\n",
       "<speaker1>Нет, а ты?\n",
       "<speaker2>Женат) сыну уже два года. Время так быстро летит<speaker2>В месте с сыном учимся играть в шахматы)<speaker2>Дети есть?\n",
       "<speaker1>Это да, я за эти два года 3 языка успела выучить и неплохо научилась петь<speaker1>Детей нет пока что\n",
       "<speaker2>Спортом заниматься?\n",
       "<speaker1>На спорт времени тоже особо нет<speaker1>А ты занимаешься спортом?\n",
       "<speaker2>Я пытаюсь выделять 4чааса в неделю на каратэ\n",
       "<speaker1>И как успехи?\n",
       "<speaker2>Вот уже пять лет занимаюсь. Но как для самообороны нормально для соревнований не дотягиваю\n",
       "<speaker1>А сына как зовут?\n",
       "<speaker2>Темка<speaker2>Темыч<speaker2>Жена было против, но я записал самд<speaker2>))\n",
       "<speaker1>Ахахах, надо же советоваться с женой\n",
       "<speaker2>Она хотела Эдик назвать<speaker2>Я не хотел\n",
       "<speaker1>Ну тогда правильно сделал\n",
       "<speaker2>Вот и я того же мнения<speaker2>Ну ладненько рад знакомству. Но пора на работуд<speaker2>)\n",
       "********************************************************************************\n",
       "<speaker1>привет!\n",
       "<speaker2>Привет, как у тебя дела?\n",
       "<speaker1>все хорошо, у тебя как дела?\n",
       "<speaker2>Тоже, все отлично, чем занимаешься ?)\n",
       "<speaker1>еду на вокзал, я работаю за границей, приезжал на праздник в честь юбилея моей двоюродной бабушки. У меня очень большая семья !!<speaker1>а чем занимаешься ты?\n",
       "<speaker2>Это здорово )) я сейчас пишу картину, я художник) с дипломом клоуна ))<speaker2>Кем работали заграницей\n",
       "<speaker1>я работаю строителем, хочу собрать денеги поехать в Австралию в отпуск! а вы любите путешествовать?\n",
       "<speaker2>Да, недавно был в Италии и но на воздушном шаре<speaker2>Как относитесь к политике?\n",
       "<speaker1>не боитесь высоты?<speaker1>я нейтрально отношусь к политике, а Вы?\n",
       "<speaker2>Я участвовал в выборах и вы знаете, мне понравилось\n",
       "<speaker1>ого, это здорово. планируете дальше развиваться в этом направлении ?)\n",
       "<speaker2>Кстати Раз у вас большая я могу сделать вам скидку , я делаю собственную мебель)<speaker2>Ну вы знаете , мне хотелось бы , ноне вышло\n",
       "<speaker1>какой вы всесторонне развитый человек!\n",
       "<speaker2>Дааа\n",
       "<speaker1>почему не вышло?\n",
       "<speaker2>Была более интересная кандидатура чем я\n",
       "<speaker1>может в другой раз повезет?<speaker1>не стоит сдаваться!нужно идти к цели!\n",
       "<speaker2>Я тоже так думаю)\n",
       "********************************************************************************\n",
       "<speaker2>Привет<speaker2>Как дела?\n",
       "<speaker1>Привет! Супер! А у тебя?<speaker1>Меня зовут Кирилл, а тебя?\n",
       "<speaker2>Впрочем, ничего нового. Как всегда грустно, потому что у меня нет никого с кем можно было бы поболтать .. к сожалению, я одинокий, одиночество уже стало моим стилем жизни и я ничего не могу с эти сделать<speaker2>Меня зовут Александр<speaker2>Ты понимаешь! Я живу один, в своей огромной квартире и единственные существа, которым я могу высказываться это рыбки, за которыми я ухаживаю\n",
       "<speaker1>Сочувствую ... я женат на самой лучшей женщине в мире поэтому плохо тебя понимаю\n",
       "<speaker2>Весь день я читаю книги и пью чай с печеньем<speaker2>А чем занимаешься ты?<speaker2>Есть ли у тебя дети?\n",
       "<speaker1>И у меня нет повода для грусти У меня есть клевая тачка и я люблю путешествовать- отличное сочетание !<speaker1>Я менеджер\n",
       "<speaker2>Как же тебе повезло!\n",
       "<speaker1>Детей пока нет, но мы планируем\n",
       "********************************************************************************\n",
       "<speaker1>Привет\n",
       "<speaker2>Привет\n",
       "<speaker1>Расскажи о себе<speaker1>Чем увлекаешься?<speaker1>Я лично люблю читать<speaker1>Возле моря\n",
       "<speaker2>В своё свободное время, я люблю заниматься рыбалкой .\n",
       "<speaker1>Мне нравится море<speaker1>А семья есть?\n",
       "<speaker2>Мне тоже очень нравиться море<speaker2>У меня трое внуков, а у тебе есть жена, дети?\n",
       "<speaker1>У меня есть братья<speaker1>Кем ты работаешь\n",
       "<speaker2>Я работаю хирургом, а ты?\n",
       "<speaker1>Я лично флорист, люблю цветы\n",
       "<speaker2>Отличная профессия\n",
       "<speaker1>Чем ещё занимаешься?<speaker1>У меня есть кошки, очень люблю их, у вас есть животные<speaker1>?\n",
       "<speaker2>Я люблю знакомиться с новыми людьми, поэтому у меня очень много друзей<speaker2>Не люблю животных, к меня аллергия на кошек\n",
       "<speaker1>Очень жаль<speaker1>А сколько вам лет<speaker1>?\n",
       "<speaker2>Что вы думаете о нынешней политике России?<speaker2>Мне 45<speaker2>А тебе?\n",
       "<speaker1>21<speaker1>Я не люблю говорить о политике\n",
       "<speaker2>Я тоже не очень люблю политиков, нехороший народ\n",
       "<speaker1>Почему?<speaker1>А с какого вы города<speaker1>?\n",
       "<speaker2>Все не для людей<speaker2>Я из Москвы, а вы?\n",
       "<speaker1>Я вообще с Украины\n",
       "<speaker2>А из какого города?\n",
       "<speaker1>Мелитополь\n",
       "<speaker2>У меня дед из Одессы\n",
       "<speaker1>Одесса , прекрасный город\n",
       "<speaker2>Не слышал об этом городе"
      ]
     },
     "execution_count": 48,
     "metadata": {},
     "output_type": "execute_result"
    }
   ],
   "source": [
    "dialog_class = Dialog(dialogs['dialogue'].tolist())\n",
    "dialog_class"
   ]
  },
  {
   "cell_type": "markdown",
   "id": "a19dc109",
   "metadata": {},
   "source": [
    "as in usual dialog there can be some consequtive replicas from one user"
   ]
  },
  {
   "cell_type": "markdown",
   "id": "3f4b36aa",
   "metadata": {
    "ExecuteTime": {
     "end_time": "2022-03-20T12:01:17.761348Z",
     "start_time": "2022-03-20T12:01:17.759462Z"
    }
   },
   "source": [
    "# IDEA - combine one type of personality and train on this"
   ]
  },
  {
   "cell_type": "markdown",
   "id": "f8250862",
   "metadata": {},
   "source": [
    "## Profiles"
   ]
  },
  {
   "cell_type": "code",
   "execution_count": 49,
   "id": "a0bf1f5c",
   "metadata": {
    "ExecuteTime": {
     "end_time": "2022-03-27T16:50:16.706991Z",
     "start_time": "2022-03-27T16:50:16.698901Z"
    }
   },
   "outputs": [],
   "source": [
    "profiles = pd.read_csv(os.path.join(DATA_PATH, 'profiles.tsv'), sep='\\t', )"
   ]
  },
  {
   "cell_type": "code",
   "execution_count": 50,
   "id": "17096960",
   "metadata": {
    "ExecuteTime": {
     "end_time": "2022-03-27T16:50:16.714676Z",
     "start_time": "2022-03-27T16:50:16.708007Z"
    }
   },
   "outputs": [
    {
     "name": "stdout",
     "output_type": "stream",
     "text": [
      "<class 'pandas.core.frame.DataFrame'>\n",
      "Index: 1505 entries, У меня любимая работа. to Я кулинар.\n",
      "Data columns (total 5 columns):\n",
      " #   Column            Non-Null Count  Dtype  \n",
      "---  ------            --------------  -----  \n",
      " 0   characteristic_1  1505 non-null   object \n",
      " 1   characteristic_2  1505 non-null   object \n",
      " 2   characteristic_3  1505 non-null   object \n",
      " 3   characteristic_4  1505 non-null   object \n",
      " 4   characteristic_5  0 non-null      float64\n",
      "dtypes: float64(1), object(4)\n",
      "memory usage: 70.5+ KB\n"
     ]
    }
   ],
   "source": [
    "profiles.info()"
   ]
  },
  {
   "cell_type": "code",
   "execution_count": 51,
   "id": "a26ddd17",
   "metadata": {
    "ExecuteTime": {
     "end_time": "2022-03-27T16:50:16.721801Z",
     "start_time": "2022-03-27T16:50:16.715782Z"
    }
   },
   "outputs": [
    {
     "data": {
      "text/html": [
       "<div>\n",
       "<style scoped>\n",
       "    .dataframe tbody tr th:only-of-type {\n",
       "        vertical-align: middle;\n",
       "    }\n",
       "\n",
       "    .dataframe tbody tr th {\n",
       "        vertical-align: top;\n",
       "    }\n",
       "\n",
       "    .dataframe thead th {\n",
       "        text-align: right;\n",
       "    }\n",
       "</style>\n",
       "<table border=\"1\" class=\"dataframe\">\n",
       "  <thead>\n",
       "    <tr style=\"text-align: right;\">\n",
       "      <th></th>\n",
       "      <th>characteristic_1</th>\n",
       "      <th>characteristic_2</th>\n",
       "      <th>characteristic_3</th>\n",
       "      <th>characteristic_4</th>\n",
       "      <th>characteristic_5</th>\n",
       "    </tr>\n",
       "  </thead>\n",
       "  <tbody>\n",
       "    <tr>\n",
       "      <th>У меня любимая работа.</th>\n",
       "      <td>Я уважаю людей.</td>\n",
       "      <td>У меня есть животное.</td>\n",
       "      <td>У меня хороший друг.</td>\n",
       "      <td>Я люблю кофе.</td>\n",
       "      <td>NaN</td>\n",
       "    </tr>\n",
       "    <tr>\n",
       "      <th>Я работаю учителем</th>\n",
       "      <td>У меня есть собака</td>\n",
       "      <td>Я люблю петь</td>\n",
       "      <td>Я живу сама</td>\n",
       "      <td>Я люблю цветы</td>\n",
       "      <td>NaN</td>\n",
       "    </tr>\n",
       "    <tr>\n",
       "      <th>Я купила дом</th>\n",
       "      <td>Я бегаю по утрам</td>\n",
       "      <td>Я работаю на работе</td>\n",
       "      <td>Я поеду в отпуск</td>\n",
       "      <td>Я люблю арбуз</td>\n",
       "      <td>NaN</td>\n",
       "    </tr>\n",
       "    <tr>\n",
       "      <th>я врач и женат</th>\n",
       "      <td>у меня трое детей</td>\n",
       "      <td>не люблю свою работу</td>\n",
       "      <td>нравиться ездить на велосипеде</td>\n",
       "      <td>люблю пиво</td>\n",
       "      <td>NaN</td>\n",
       "    </tr>\n",
       "    <tr>\n",
       "      <th>Я школьница.</th>\n",
       "      <td>Я ещё учусь.</td>\n",
       "      <td>Но я мечтаю работать.</td>\n",
       "      <td>Я обожаю родителей.</td>\n",
       "      <td>И не люблю учиться.</td>\n",
       "      <td>NaN</td>\n",
       "    </tr>\n",
       "    <tr>\n",
       "      <th>Я дизайнер.</th>\n",
       "      <td>Я был в 12-ти странах.</td>\n",
       "      <td>Люблю пешие прогулки.</td>\n",
       "      <td>люблю рок-музыку.</td>\n",
       "      <td>Хочу купить дачу.</td>\n",
       "      <td>NaN</td>\n",
       "    </tr>\n",
       "    <tr>\n",
       "      <th>я норвежец</th>\n",
       "      <td>у меня есть попугай</td>\n",
       "      <td>я не люблю деревья</td>\n",
       "      <td>у меня было десять лошадей</td>\n",
       "      <td>я не курю</td>\n",
       "      <td>NaN</td>\n",
       "    </tr>\n",
       "  </tbody>\n",
       "</table>\n",
       "</div>"
      ],
      "text/plain": [
       "                              characteristic_1       characteristic_2  \\\n",
       "У меня любимая работа.         Я уважаю людей.  У меня есть животное.   \n",
       "Я работаю учителем          У меня есть собака           Я люблю петь   \n",
       "Я купила дом                  Я бегаю по утрам    Я работаю на работе   \n",
       "я врач и женат               у меня трое детей   не люблю свою работу   \n",
       "Я школьница.                      Я ещё учусь.  Но я мечтаю работать.   \n",
       "Я дизайнер.             Я был в 12-ти странах.  Люблю пешие прогулки.   \n",
       "я норвежец                 у меня есть попугай     я не люблю деревья   \n",
       "\n",
       "                                      characteristic_3     characteristic_4  \\\n",
       "У меня любимая работа.            У меня хороший друг.        Я люблю кофе.   \n",
       "Я работаю учителем                         Я живу сама        Я люблю цветы   \n",
       "Я купила дом                          Я поеду в отпуск        Я люблю арбуз   \n",
       "я врач и женат          нравиться ездить на велосипеде           люблю пиво   \n",
       "Я школьница.                       Я обожаю родителей.  И не люблю учиться.   \n",
       "Я дизайнер.                          люблю рок-музыку.    Хочу купить дачу.   \n",
       "я норвежец                  у меня было десять лошадей            я не курю   \n",
       "\n",
       "                        characteristic_5  \n",
       "У меня любимая работа.               NaN  \n",
       "Я работаю учителем                   NaN  \n",
       "Я купила дом                         NaN  \n",
       "я врач и женат                       NaN  \n",
       "Я школьница.                         NaN  \n",
       "Я дизайнер.                          NaN  \n",
       "я норвежец                           NaN  "
      ]
     },
     "execution_count": 51,
     "metadata": {},
     "output_type": "execute_result"
    }
   ],
   "source": [
    "profiles.head(7)"
   ]
  },
  {
   "cell_type": "code",
   "execution_count": 52,
   "id": "b3ad0047",
   "metadata": {
    "ExecuteTime": {
     "end_time": "2022-03-27T16:50:16.739712Z",
     "start_time": "2022-03-27T16:50:16.723000Z"
    },
    "scrolled": true
   },
   "outputs": [],
   "source": [
    "from itertools import chain\n",
    "\n",
    "dialogs['persona_1'] = dialogs[[f'persona_1_profile_{i}' for i in range(1,6)]].values.tolist()\n",
    "dialogs['persona_2'] = dialogs[[f'persona_2_profile_{i}' for i in range(1,6)]].values.tolist()"
   ]
  },
  {
   "cell_type": "code",
   "execution_count": 53,
   "id": "3ca0a620",
   "metadata": {
    "ExecuteTime": {
     "end_time": "2022-03-27T16:50:16.743504Z",
     "start_time": "2022-03-27T16:50:16.740845Z"
    }
   },
   "outputs": [],
   "source": [
    "def preprocess_for_raw_text(dialog):\n",
    "    dialog = dialog.replace('<br />', ' ').replace('</span> ', '')\n",
    "    dialog = dialog.replace('<span class=participant_1>Пользователь 1: ', '<speaker1>')\n",
    "    dialog = dialog.replace('<span class=participant_2>Пользователь 2: ', '<speaker2>')\n",
    "    return dialog"
   ]
  },
  {
   "cell_type": "code",
   "execution_count": 54,
   "id": "f4847d0e",
   "metadata": {
    "ExecuteTime": {
     "end_time": "2022-03-27T16:50:16.921676Z",
     "start_time": "2022-03-27T16:50:16.744466Z"
    },
    "scrolled": true
   },
   "outputs": [],
   "source": [
    "dialogs['dialogue_preprocessed'] = dialogs['dialogue'].apply(dialog_class._preprocess_for_raw_text)"
   ]
  },
  {
   "cell_type": "code",
   "execution_count": 55,
   "id": "07afd758",
   "metadata": {
    "ExecuteTime": {
     "end_time": "2022-03-27T16:50:16.935144Z",
     "start_time": "2022-03-27T16:50:16.922724Z"
    }
   },
   "outputs": [
    {
     "data": {
      "text/html": [
       "<div>\n",
       "<style scoped>\n",
       "    .dataframe tbody tr th:only-of-type {\n",
       "        vertical-align: middle;\n",
       "    }\n",
       "\n",
       "    .dataframe tbody tr th {\n",
       "        vertical-align: top;\n",
       "    }\n",
       "\n",
       "    .dataframe thead th {\n",
       "        text-align: right;\n",
       "    }\n",
       "</style>\n",
       "<table border=\"1\" class=\"dataframe\">\n",
       "  <thead>\n",
       "    <tr style=\"text-align: right;\">\n",
       "      <th></th>\n",
       "      <th>dialogue_preprocessed</th>\n",
       "      <th>persona_1</th>\n",
       "      <th>persona_2</th>\n",
       "    </tr>\n",
       "  </thead>\n",
       "  <tbody>\n",
       "    <tr>\n",
       "      <th>0</th>\n",
       "      <td>&lt;speaker2&gt;Привет) расскажи о себе&lt;speaker1&gt;При...</td>\n",
       "      <td>[любимая работа, уважаю людей, есть животное, ...</td>\n",
       "      <td>[ищу принца, веду активный образ жизни, люблю ...</td>\n",
       "    </tr>\n",
       "    <tr>\n",
       "      <th>1</th>\n",
       "      <td>&lt;speaker1&gt;Привет!&lt;speaker2&gt;Привет,Как жизнь?&lt;s...</td>\n",
       "      <td>[работаю учителем, есть собака, люблю петь, жи...</td>\n",
       "      <td>[бизнесмен, скоро свадьба, меня любят только з...</td>\n",
       "    </tr>\n",
       "    <tr>\n",
       "      <th>2</th>\n",
       "      <td>&lt;speaker1&gt;Привет&lt;speaker1&gt;Как дела ?&lt;speaker2&gt;...</td>\n",
       "      <td>[купила дом, бегаю по утрам, работаю на работе...</td>\n",
       "      <td>[пою в караоке, есть супруга, хорошо готовлю п...</td>\n",
       "    </tr>\n",
       "    <tr>\n",
       "      <th>3</th>\n",
       "      <td>&lt;speaker2&gt;Здравствуйте&lt;speaker2&gt;Я Леша&lt;speaker...</td>\n",
       "      <td>[врач и женат, трое детей, не люблю свою работ...</td>\n",
       "      <td>[мальчик, учусь в 6-ом классе, хочу стать гонщ...</td>\n",
       "    </tr>\n",
       "    <tr>\n",
       "      <th>4</th>\n",
       "      <td>&lt;speaker1&gt;Привет!&lt;speaker2&gt;Привет!&lt;speaker2&gt;Ка...</td>\n",
       "      <td>[школьница, ещё учусь, но я мечтаю работать, о...</td>\n",
       "      <td>[простоват, люди избегают меня, быстро бегаю, ...</td>\n",
       "    </tr>\n",
       "    <tr>\n",
       "      <th>...</th>\n",
       "      <td>...</td>\n",
       "      <td>...</td>\n",
       "      <td>...</td>\n",
       "    </tr>\n",
       "    <tr>\n",
       "      <th>10008</th>\n",
       "      <td>\"&lt;speaker1&gt;Привет&lt;speaker2&gt;Привет, как настрое...</td>\n",
       "      <td>[6 собак, не люблю кошек, работаю кинологом, л...</td>\n",
       "      <td>[музыкант, люблю веселые компании, увлекаюсь о...</td>\n",
       "    </tr>\n",
       "    <tr>\n",
       "      <th>10009</th>\n",
       "      <td>&lt;speaker1&gt;Привет)&lt;speaker1&gt;Как жизнь? Чем увле...</td>\n",
       "      <td>[верная, мне нравится уют , люблю посиделки у ...</td>\n",
       "      <td>[люблю рок, пишу статьи для журнала, езжу на в...</td>\n",
       "    </tr>\n",
       "    <tr>\n",
       "      <th>10010</th>\n",
       "      <td>&lt;speaker1&gt;Привет&lt;speaker2&gt;приветствую&lt;speaker1...</td>\n",
       "      <td>[студент, учусь на хирурга, очень люблю комеди...</td>\n",
       "      <td>[директор турфирмы, люблю детей, катаюсь на сн...</td>\n",
       "    </tr>\n",
       "    <tr>\n",
       "      <th>10011</th>\n",
       "      <td>&lt;speaker1&gt;Приветик)&lt;speaker2&gt;Привет. Меня зову...</td>\n",
       "      <td>[моя мама живет со мной, люблю есть пироги, ес...</td>\n",
       "      <td>[воспитатель, люблю готовить, люблю велоспорт,...</td>\n",
       "    </tr>\n",
       "    <tr>\n",
       "      <th>10012</th>\n",
       "      <td>&lt;speaker2&gt;Привет! рада новому знакомству, как ...</td>\n",
       "      <td>[женат, люблю свою жену, работаю прорабом на с...</td>\n",
       "      <td>[люблю читать, умею плавать, преподаватель в ш...</td>\n",
       "    </tr>\n",
       "  </tbody>\n",
       "</table>\n",
       "<p>10013 rows × 3 columns</p>\n",
       "</div>"
      ],
      "text/plain": [
       "                                   dialogue_preprocessed  \\\n",
       "0      <speaker2>Привет) расскажи о себе<speaker1>При...   \n",
       "1      <speaker1>Привет!<speaker2>Привет,Как жизнь?<s...   \n",
       "2      <speaker1>Привет<speaker1>Как дела ?<speaker2>...   \n",
       "3      <speaker2>Здравствуйте<speaker2>Я Леша<speaker...   \n",
       "4      <speaker1>Привет!<speaker2>Привет!<speaker2>Ка...   \n",
       "...                                                  ...   \n",
       "10008  \"<speaker1>Привет<speaker2>Привет, как настрое...   \n",
       "10009  <speaker1>Привет)<speaker1>Как жизнь? Чем увле...   \n",
       "10010  <speaker1>Привет<speaker2>приветствую<speaker1...   \n",
       "10011  <speaker1>Приветик)<speaker2>Привет. Меня зову...   \n",
       "10012  <speaker2>Привет! рада новому знакомству, как ...   \n",
       "\n",
       "                                               persona_1  \\\n",
       "0      [любимая работа, уважаю людей, есть животное, ...   \n",
       "1      [работаю учителем, есть собака, люблю петь, жи...   \n",
       "2      [купила дом, бегаю по утрам, работаю на работе...   \n",
       "3      [врач и женат, трое детей, не люблю свою работ...   \n",
       "4      [школьница, ещё учусь, но я мечтаю работать, о...   \n",
       "...                                                  ...   \n",
       "10008  [6 собак, не люблю кошек, работаю кинологом, л...   \n",
       "10009  [верная, мне нравится уют , люблю посиделки у ...   \n",
       "10010  [студент, учусь на хирурга, очень люблю комеди...   \n",
       "10011  [моя мама живет со мной, люблю есть пироги, ес...   \n",
       "10012  [женат, люблю свою жену, работаю прорабом на с...   \n",
       "\n",
       "                                               persona_2  \n",
       "0      [ищу принца, веду активный образ жизни, люблю ...  \n",
       "1      [бизнесмен, скоро свадьба, меня любят только з...  \n",
       "2      [пою в караоке, есть супруга, хорошо готовлю п...  \n",
       "3      [мальчик, учусь в 6-ом классе, хочу стать гонщ...  \n",
       "4      [простоват, люди избегают меня, быстро бегаю, ...  \n",
       "...                                                  ...  \n",
       "10008  [музыкант, люблю веселые компании, увлекаюсь о...  \n",
       "10009  [люблю рок, пишу статьи для журнала, езжу на в...  \n",
       "10010  [директор турфирмы, люблю детей, катаюсь на сн...  \n",
       "10011  [воспитатель, люблю готовить, люблю велоспорт,...  \n",
       "10012  [люблю читать, умею плавать, преподаватель в ш...  \n",
       "\n",
       "[10013 rows x 3 columns]"
      ]
     },
     "execution_count": 55,
     "metadata": {},
     "output_type": "execute_result"
    }
   ],
   "source": [
    "dialogs[['dialogue_preprocessed', 'persona_1', 'persona_2']]"
   ]
  },
  {
   "cell_type": "code",
   "execution_count": 56,
   "id": "270fde72",
   "metadata": {
    "ExecuteTime": {
     "end_time": "2022-03-27T16:50:16.940951Z",
     "start_time": "2022-03-27T16:50:16.936951Z"
    }
   },
   "outputs": [
    {
     "data": {
      "text/plain": [
       "[['<speaker2>Привет) расскажи о себе',\n",
       "  '<speaker1>Привет) под вкусный кофеек настроение поболтать появилось )'],\n",
       " ['<speaker2>Привет) расскажи о себе',\n",
       "  '<speaker1>Привет) под вкусный кофеек настроение поболтать появилось )',\n",
       "  '<speaker2>Что читаешь? Мне нравится классика<speaker2>Я тоже люблю пообщаться'],\n",
       " ['<speaker2>Привет) расскажи о себе',\n",
       "  '<speaker1>Привет) под вкусный кофеек настроение поболтать появилось )',\n",
       "  '<speaker2>Что читаешь? Мне нравится классика<speaker2>Я тоже люблю пообщаться',\n",
       "  '<speaker1>Люблю животных, просто обожаю, как и свою работу)<speaker1>Я фантастику люблю'],\n",
       " ['<speaker1>Привет) под вкусный кофеек настроение поболтать появилось )',\n",
       "  '<speaker2>Что читаешь? Мне нравится классика<speaker2>Я тоже люблю пообщаться',\n",
       "  '<speaker1>Люблю животных, просто обожаю, как и свою работу)<speaker1>Я фантастику люблю',\n",
       "  '<speaker2>А я выращиваю фиалки<speaker2>И веду здоровый и активный образ жизни!'],\n",
       " ['<speaker2>Что читаешь? Мне нравится классика<speaker2>Я тоже люблю пообщаться',\n",
       "  '<speaker1>Люблю животных, просто обожаю, как и свою работу)<speaker1>Я фантастику люблю',\n",
       "  '<speaker2>А я выращиваю фиалки<speaker2>И веду здоровый и активный образ жизни!',\n",
       "  '<speaker1>Ух ты, интересно.'],\n",
       " ['<speaker1>Люблю животных, просто обожаю, как и свою работу)<speaker1>Я фантастику люблю',\n",
       "  '<speaker2>А я выращиваю фиалки<speaker2>И веду здоровый и активный образ жизни!',\n",
       "  '<speaker1>Ух ты, интересно.',\n",
       "  '<speaker2>Ты случайно не принц на белом коне? Я его очень жду ..']]"
      ]
     },
     "execution_count": 56,
     "metadata": {},
     "output_type": "execute_result"
    }
   ],
   "source": [
    "dialog = dialog_class.form_raw_text(dialogs['dialogue_preprocessed'][0])\n",
    "\n",
    "result = list()\n",
    "\n",
    "for i in range(2, len(dialog)):\n",
    "    if i <= 4:\n",
    "        result.append(dialog[:i])\n",
    "    else:\n",
    "        result.append(dialog[i - 4: i])\n",
    "result"
   ]
  },
  {
   "cell_type": "code",
   "execution_count": 57,
   "id": "4cbdeae2",
   "metadata": {
    "ExecuteTime": {
     "end_time": "2022-03-27T16:50:16.944716Z",
     "start_time": "2022-03-27T16:50:16.942009Z"
    }
   },
   "outputs": [
    {
     "data": {
      "text/plain": [
       "[['<bos>',\n",
       "  '<speaker2>Привет) расскажи о себе<speaker1>Привет) под вкусный кофеек настроение поболтать появилось )<speaker2>Что читаешь? Мне нравится классика<speaker2>Я тоже люблю пообщаться<speaker1>Люблю животных, просто обожаю, как и свою работу)<speaker1>Я фантастику люблю<speaker2>А я выращиваю фиалки<speaker2>И веду здоровый и активный образ жизни!<speaker1>Ух ты, интересно.<speaker2>Ты случайно не принц на белом коне? Я его очень жду ..<speaker1>А у меня из хобби каждую неделю тусить с моим лучшим другом)',\n",
       "  '<eos>']]"
      ]
     },
     "execution_count": 57,
     "metadata": {},
     "output_type": "execute_result"
    }
   ],
   "source": [
    "dialog_class.get_chunks(dialog, use_history=False)"
   ]
  },
  {
   "cell_type": "code",
   "execution_count": 58,
   "id": "d6e432ec",
   "metadata": {
    "ExecuteTime": {
     "end_time": "2022-03-27T16:50:18.771107Z",
     "start_time": "2022-03-27T16:50:16.945654Z"
    }
   },
   "outputs": [
    {
     "data": {
      "application/vnd.jupyter.widget-view+json": {
       "model_id": "b88535344c0c444194e7c047848061d6",
       "version_major": 2,
       "version_minor": 0
      },
      "text/plain": [
       "  0%|          | 0/10013 [00:00<?, ?it/s]"
      ]
     },
     "metadata": {},
     "output_type": "display_data"
    }
   ],
   "source": [
    "res = [''.join(dialog) for dialog in dialog_class.form_data_to_train(use_history=True)]"
   ]
  },
  {
   "cell_type": "code",
   "execution_count": 59,
   "id": "f0c32b2a",
   "metadata": {
    "ExecuteTime": {
     "end_time": "2022-03-27T16:51:01.944107Z",
     "start_time": "2022-03-27T16:51:01.941090Z"
    }
   },
   "outputs": [
    {
     "data": {
      "text/plain": [
       "'<bos><speaker2>Что читаешь? Мне нравится классика<speaker2>Я тоже люблю пообщаться<speaker1>Люблю животных, просто обожаю, как и свою работу)<speaker1>Я фантастику люблю<speaker2>А я выращиваю фиалки<speaker2>И веду здоровый и активный образ жизни!<speaker1>Ух ты, интересно.<eos>'"
      ]
     },
     "execution_count": 59,
     "metadata": {},
     "output_type": "execute_result"
    }
   ],
   "source": [
    "res[4]"
   ]
  },
  {
   "cell_type": "code",
   "execution_count": 60,
   "id": "01beb609",
   "metadata": {
    "ExecuteTime": {
     "end_time": "2022-03-27T16:51:18.014292Z",
     "start_time": "2022-03-27T16:51:17.643942Z"
    }
   },
   "outputs": [],
   "source": [
    "shuffle(res)\n",
    "\n",
    "train = res[:int(len(res) * 0.85)]\n",
    "valid = res[int(len(res) * 0.85):]\n",
    "\n",
    "with open(os.path.join(DATA_PATH, 'train_hist.txt'), 'w') as f:\n",
    "    f.write('\\n'.join(train))\n",
    "\n",
    "with open(os.path.join(DATA_PATH, 'valid_hist.txt'), 'w') as f:\n",
    "    f.write('\\n'.join(valid))"
   ]
  },
  {
   "cell_type": "code",
   "execution_count": null,
   "id": "439ecd1c",
   "metadata": {
    "ExecuteTime": {
     "end_time": "2022-03-27T16:41:53.629661Z",
     "start_time": "2022-03-27T16:41:53.629651Z"
    }
   },
   "outputs": [],
   "source": [
    "shuffle(res)\n",
    "\n",
    "train = res[:int(len(res) * 0.85)]\n",
    "valid = res[int(len(res) * 0.85):]\n",
    "\n",
    "with open(os.path.join(DATA_PATH, 'train_pers+hist.txt'), 'w') as f:\n",
    "    f.write('\\n'.join(train))\n",
    "\n",
    "with open(os.path.join(DATA_PATH, 'valid_pers+hist.txt'), 'w') as f:\n",
    "    f.write('\\n'.join(valid))"
   ]
  },
  {
   "cell_type": "code",
   "execution_count": null,
   "id": "5891d5b8",
   "metadata": {},
   "outputs": [],
   "source": []
  }
 ],
 "metadata": {
  "kernelspec": {
   "display_name": "Python 3 (ipykernel)",
   "language": "python",
   "name": "python3"
  },
  "language_info": {
   "codemirror_mode": {
    "name": "ipython",
    "version": 3
   },
   "file_extension": ".py",
   "mimetype": "text/x-python",
   "name": "python",
   "nbconvert_exporter": "python",
   "pygments_lexer": "ipython3",
   "version": "3.8.10"
  },
  "varInspector": {
   "cols": {
    "lenName": 16,
    "lenType": 16,
    "lenVar": 40
   },
   "kernels_config": {
    "python": {
     "delete_cmd_postfix": "",
     "delete_cmd_prefix": "del ",
     "library": "var_list.py",
     "varRefreshCmd": "print(var_dic_list())"
    },
    "r": {
     "delete_cmd_postfix": ") ",
     "delete_cmd_prefix": "rm(",
     "library": "var_list.r",
     "varRefreshCmd": "cat(var_dic_list()) "
    }
   },
   "types_to_exclude": [
    "module",
    "function",
    "builtin_function_or_method",
    "instance",
    "_Feature"
   ],
   "window_display": false
  }
 },
 "nbformat": 4,
 "nbformat_minor": 5
}
